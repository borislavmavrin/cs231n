{
 "cells": [
  {
   "cell_type": "code",
   "execution_count": 2,
   "metadata": {
    "collapsed": false
   },
   "outputs": [
    {
     "name": "stdout",
     "output_type": "stream",
     "text": [
      "[ 0.50000525  0.5000105 ]\n",
      "0.693152430698\n",
      "[ 0.  0.]\n",
      "0.693162930698\n",
      "[ 0.  1.]\n",
      "0.693141930698\n",
      "[ 1.  0.]\n",
      "0.693152430698\n",
      "[ 1.  1.]\n",
      "0.693131430698\n"
     ]
    }
   ],
   "source": [
    "import numpy as np\n",
    "import itertools\n",
    "\n",
    "def sigmoid(x):\n",
    "    temp = np.exp(x)\n",
    "    temp = 1. / (1 + temp)\n",
    "    return temp\n",
    "\n",
    "def loss(y_true, y_pred):\n",
    "    temp = y_true * np.log(y_pred)\n",
    "    temp += (1 - y_true) * np.log(1 - y_pred)\n",
    "    temp *= - 1. / y_true.shape[0]\n",
    "    return temp.sum()\n",
    "\n",
    "\n",
    "y_true = np.array([1., 0.])\n",
    "n = 2\n",
    "y_pred = 0.5 * np.ones(n)\n",
    "epsilon = 1.05e-5\n",
    "for i in xrange(2):\n",
    "    y_pred[i] = - n * epsilon * 2 ** i\n",
    "y_pred = sigmoid(y_pred)\n",
    "print(y_pred)\n",
    "print(loss(y_true, y_pred))\n",
    "\n",
    "for i in itertools.product(\"01\", repeat=2):\n",
    "    y_i = np.asarray(i, dtype=np.float)\n",
    "    print(y_i)\n",
    "    print(loss(y_i, y_pred))\n",
    "    "
   ]
  },
  {
   "cell_type": "code",
   "execution_count": 3,
   "metadata": {
    "collapsed": false
   },
   "outputs": [
    {
     "name": "stdout",
     "output_type": "stream",
     "text": [
      "[[ 0.  4.  0.  0.  0.  0.  0.  4.  0.  0.  4.  0.  0.  0.  0.  0.  0.  0.\n",
      "   0.  4.]\n",
      " [ 0.  0.  0.  0.  0.  0.  0.  4.  4.  0.  0.  0.  0.  0.  0.  0.  0.  0.\n",
      "   0.  0.]]\n",
      "40\n",
      "0.15\n"
     ]
    },
    {
     "data": {
      "text/plain": [
       "0.15"
      ]
     },
     "execution_count": 3,
     "metadata": {},
     "output_type": "execute_result"
    }
   ],
   "source": [
    "p = 0.25\n",
    "d = (np.random.rand(2, 20) < p) / p\n",
    "print(d)\n",
    "print(np.prod(d.shape))\n",
    "print(np.sum(d > 0) / float(np.prod(d.shape)))\n",
    "6. / 40"
   ]
  },
  {
   "cell_type": "code",
   "execution_count": 4,
   "metadata": {
    "collapsed": false
   },
   "outputs": [
    {
     "data": {
      "text/plain": [
       "(1, 2, 3)"
      ]
     },
     "execution_count": 4,
     "metadata": {},
     "output_type": "execute_result"
    }
   ],
   "source": [
    "out = np.zeros((1, 2, 3))\n",
    "out.shape"
   ]
  },
  {
   "cell_type": "code",
   "execution_count": 5,
   "metadata": {
    "collapsed": false
   },
   "outputs": [
    {
     "name": "stdout",
     "output_type": "stream",
     "text": [
      "5\n"
     ]
    }
   ],
   "source": [
    "g = np.array([[1, 2], [5, 4]])\n",
    "ind = np.unravel_index(g.argmax(), g.shape)\n",
    "print(g[ind])"
   ]
  },
  {
   "cell_type": "code",
   "execution_count": 56,
   "metadata": {
    "collapsed": false
   },
   "outputs": [
    {
     "name": "stdout",
     "output_type": "stream",
     "text": [
      "<built-in method iterkeys of dict object at 0x7f4fe4076d70>\n",
      "((1, 3), 0.4)\n"
     ]
    }
   ],
   "source": [
    "a = {}\n",
    "a[(1, 2)] = 0.3\n",
    "a[(1, 3)] = 0.4\n",
    "print(a.iterkeys)\n",
    "ind = max(a.iterkeys(), key=(lambda key: a[key]))\n",
    "print(ind, a[ind])"
   ]
  },
  {
   "cell_type": "code",
   "execution_count": 40,
   "metadata": {
    "collapsed": false
   },
   "outputs": [
    {
     "data": {
      "text/plain": [
       "array([  1.00000000e-06,   1.00000000e-05,   1.00000000e-04,\n",
       "         1.00000000e-03,   1.00000000e-02,   1.00000000e-01,\n",
       "         1.00000000e+00])"
      ]
     },
     "execution_count": 40,
     "metadata": {},
     "output_type": "execute_result"
    }
   ],
   "source": [
    "np.logspace(-6, 0, 7)"
   ]
  },
  {
   "cell_type": "code",
   "execution_count": null,
   "metadata": {
    "collapsed": true
   },
   "outputs": [],
   "source": []
  }
 ],
 "metadata": {
  "kernelspec": {
   "display_name": "Python 2",
   "language": "python",
   "name": "python2"
  },
  "language_info": {
   "codemirror_mode": {
    "name": "ipython",
    "version": 2
   },
   "file_extension": ".py",
   "mimetype": "text/x-python",
   "name": "python",
   "nbconvert_exporter": "python",
   "pygments_lexer": "ipython2",
   "version": "2.7.6"
  }
 },
 "nbformat": 4,
 "nbformat_minor": 0
}
