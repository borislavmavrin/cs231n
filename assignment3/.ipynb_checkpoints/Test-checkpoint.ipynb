{
 "cells": [
  {
   "cell_type": "code",
   "execution_count": 7,
   "metadata": {
    "collapsed": false
   },
   "outputs": [
    {
     "name": "stdout",
     "output_type": "stream",
     "text": [
      "<built-in method argmax of numpy.ndarray object at 0x7f2fc807f210>\n"
     ]
    }
   ],
   "source": [
    "import numpy as np\n",
    "a = np.zeros(3)\n",
    "b = np.argmax(a)\n",
    "print(b)"
   ]
  },
  {
   "cell_type": "code",
   "execution_count": 19,
   "metadata": {
    "collapsed": false
   },
   "outputs": [
    {
     "name": "stdout",
     "output_type": "stream",
     "text": [
      "[[0 3 1 2]\n",
      " [2 1 0 3]]\n",
      "[[ 0.          0.07142857  0.14285714]\n",
      " [ 0.21428571  0.28571429  0.35714286]\n",
      " [ 0.42857143  0.5         0.57142857]\n",
      " [ 0.64285714  0.71428571  0.78571429]\n",
      " [ 0.85714286  0.92857143  1.        ]]\n",
      "(2, 4, 3)\n"
     ]
    }
   ],
   "source": [
    "print(x)\n",
    "print(W)\n",
    "print(out.shape)"
   ]
  },
  {
   "cell_type": "code",
   "execution_count": null,
   "metadata": {
    "collapsed": true
   },
   "outputs": [],
   "source": []
  }
 ],
 "metadata": {
  "kernelspec": {
   "display_name": "Python 2",
   "language": "python",
   "name": "python2"
  },
  "language_info": {
   "codemirror_mode": {
    "name": "ipython",
    "version": 2
   },
   "file_extension": ".py",
   "mimetype": "text/x-python",
   "name": "python",
   "nbconvert_exporter": "python",
   "pygments_lexer": "ipython2",
   "version": "2.7.6"
  }
 },
 "nbformat": 4,
 "nbformat_minor": 0
}
